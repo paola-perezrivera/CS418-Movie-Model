{
 "cells": [
  {
   "cell_type": "code",
   "execution_count": 1,
   "id": "0cb071d7-8910-428f-b045-283d64f22e90",
   "metadata": {},
   "outputs": [
    {
     "ename": "FileNotFoundError",
     "evalue": "[Errno 2] No such file or directory: './IMDb Files/IMDb movies.csv'",
     "output_type": "error",
     "traceback": [
      "\u001b[1;31m---------------------------------------------------------------------------\u001b[0m",
      "\u001b[1;31mFileNotFoundError\u001b[0m                         Traceback (most recent call last)",
      "\u001b[1;32m~\\AppData\\Local\\Temp/ipykernel_18472/2807704408.py\u001b[0m in \u001b[0;36m<module>\u001b[1;34m\u001b[0m\n\u001b[0;32m      3\u001b[0m \u001b[1;32mimport\u001b[0m \u001b[0mmatplotlib\u001b[0m\u001b[1;33m.\u001b[0m\u001b[0mpyplot\u001b[0m \u001b[1;32mas\u001b[0m \u001b[0mplt\u001b[0m\u001b[1;33m\u001b[0m\u001b[1;33m\u001b[0m\u001b[0m\n\u001b[0;32m      4\u001b[0m \u001b[1;33m\u001b[0m\u001b[0m\n\u001b[1;32m----> 5\u001b[1;33m \u001b[0mmovies\u001b[0m \u001b[1;33m=\u001b[0m \u001b[0mpd\u001b[0m\u001b[1;33m.\u001b[0m\u001b[0mread_csv\u001b[0m\u001b[1;33m(\u001b[0m\u001b[1;34m\"./IMDb Files/IMDb movies.csv\"\u001b[0m\u001b[1;33m)\u001b[0m\u001b[1;33m\u001b[0m\u001b[1;33m\u001b[0m\u001b[0m\n\u001b[0m\u001b[0;32m      6\u001b[0m \u001b[0mmoviesdf\u001b[0m \u001b[1;33m=\u001b[0m \u001b[0mpd\u001b[0m\u001b[1;33m.\u001b[0m\u001b[0mDataFrame\u001b[0m\u001b[1;33m(\u001b[0m\u001b[0mmovies\u001b[0m\u001b[1;33m)\u001b[0m\u001b[1;33m\u001b[0m\u001b[1;33m\u001b[0m\u001b[0m\n",
      "\u001b[1;32mc:\\users\\paola\\appdata\\local\\programs\\python\\python38\\lib\\site-packages\\pandas\\util\\_decorators.py\u001b[0m in \u001b[0;36mwrapper\u001b[1;34m(*args, **kwargs)\u001b[0m\n\u001b[0;32m    309\u001b[0m                     \u001b[0mstacklevel\u001b[0m\u001b[1;33m=\u001b[0m\u001b[0mstacklevel\u001b[0m\u001b[1;33m,\u001b[0m\u001b[1;33m\u001b[0m\u001b[1;33m\u001b[0m\u001b[0m\n\u001b[0;32m    310\u001b[0m                 )\n\u001b[1;32m--> 311\u001b[1;33m             \u001b[1;32mreturn\u001b[0m \u001b[0mfunc\u001b[0m\u001b[1;33m(\u001b[0m\u001b[1;33m*\u001b[0m\u001b[0margs\u001b[0m\u001b[1;33m,\u001b[0m \u001b[1;33m**\u001b[0m\u001b[0mkwargs\u001b[0m\u001b[1;33m)\u001b[0m\u001b[1;33m\u001b[0m\u001b[1;33m\u001b[0m\u001b[0m\n\u001b[0m\u001b[0;32m    312\u001b[0m \u001b[1;33m\u001b[0m\u001b[0m\n\u001b[0;32m    313\u001b[0m         \u001b[1;32mreturn\u001b[0m \u001b[0mwrapper\u001b[0m\u001b[1;33m\u001b[0m\u001b[1;33m\u001b[0m\u001b[0m\n",
      "\u001b[1;32mc:\\users\\paola\\appdata\\local\\programs\\python\\python38\\lib\\site-packages\\pandas\\io\\parsers\\readers.py\u001b[0m in \u001b[0;36mread_csv\u001b[1;34m(filepath_or_buffer, sep, delimiter, header, names, index_col, usecols, squeeze, prefix, mangle_dupe_cols, dtype, engine, converters, true_values, false_values, skipinitialspace, skiprows, skipfooter, nrows, na_values, keep_default_na, na_filter, verbose, skip_blank_lines, parse_dates, infer_datetime_format, keep_date_col, date_parser, dayfirst, cache_dates, iterator, chunksize, compression, thousands, decimal, lineterminator, quotechar, quoting, doublequote, escapechar, comment, encoding, encoding_errors, dialect, error_bad_lines, warn_bad_lines, on_bad_lines, delim_whitespace, low_memory, memory_map, float_precision, storage_options)\u001b[0m\n\u001b[0;32m    584\u001b[0m     \u001b[0mkwds\u001b[0m\u001b[1;33m.\u001b[0m\u001b[0mupdate\u001b[0m\u001b[1;33m(\u001b[0m\u001b[0mkwds_defaults\u001b[0m\u001b[1;33m)\u001b[0m\u001b[1;33m\u001b[0m\u001b[1;33m\u001b[0m\u001b[0m\n\u001b[0;32m    585\u001b[0m \u001b[1;33m\u001b[0m\u001b[0m\n\u001b[1;32m--> 586\u001b[1;33m     \u001b[1;32mreturn\u001b[0m \u001b[0m_read\u001b[0m\u001b[1;33m(\u001b[0m\u001b[0mfilepath_or_buffer\u001b[0m\u001b[1;33m,\u001b[0m \u001b[0mkwds\u001b[0m\u001b[1;33m)\u001b[0m\u001b[1;33m\u001b[0m\u001b[1;33m\u001b[0m\u001b[0m\n\u001b[0m\u001b[0;32m    587\u001b[0m \u001b[1;33m\u001b[0m\u001b[0m\n\u001b[0;32m    588\u001b[0m \u001b[1;33m\u001b[0m\u001b[0m\n",
      "\u001b[1;32mc:\\users\\paola\\appdata\\local\\programs\\python\\python38\\lib\\site-packages\\pandas\\io\\parsers\\readers.py\u001b[0m in \u001b[0;36m_read\u001b[1;34m(filepath_or_buffer, kwds)\u001b[0m\n\u001b[0;32m    480\u001b[0m \u001b[1;33m\u001b[0m\u001b[0m\n\u001b[0;32m    481\u001b[0m     \u001b[1;31m# Create the parser.\u001b[0m\u001b[1;33m\u001b[0m\u001b[1;33m\u001b[0m\u001b[1;33m\u001b[0m\u001b[0m\n\u001b[1;32m--> 482\u001b[1;33m     \u001b[0mparser\u001b[0m \u001b[1;33m=\u001b[0m \u001b[0mTextFileReader\u001b[0m\u001b[1;33m(\u001b[0m\u001b[0mfilepath_or_buffer\u001b[0m\u001b[1;33m,\u001b[0m \u001b[1;33m**\u001b[0m\u001b[0mkwds\u001b[0m\u001b[1;33m)\u001b[0m\u001b[1;33m\u001b[0m\u001b[1;33m\u001b[0m\u001b[0m\n\u001b[0m\u001b[0;32m    483\u001b[0m \u001b[1;33m\u001b[0m\u001b[0m\n\u001b[0;32m    484\u001b[0m     \u001b[1;32mif\u001b[0m \u001b[0mchunksize\u001b[0m \u001b[1;32mor\u001b[0m \u001b[0miterator\u001b[0m\u001b[1;33m:\u001b[0m\u001b[1;33m\u001b[0m\u001b[1;33m\u001b[0m\u001b[0m\n",
      "\u001b[1;32mc:\\users\\paola\\appdata\\local\\programs\\python\\python38\\lib\\site-packages\\pandas\\io\\parsers\\readers.py\u001b[0m in \u001b[0;36m__init__\u001b[1;34m(self, f, engine, **kwds)\u001b[0m\n\u001b[0;32m    809\u001b[0m             \u001b[0mself\u001b[0m\u001b[1;33m.\u001b[0m\u001b[0moptions\u001b[0m\u001b[1;33m[\u001b[0m\u001b[1;34m\"has_index_names\"\u001b[0m\u001b[1;33m]\u001b[0m \u001b[1;33m=\u001b[0m \u001b[0mkwds\u001b[0m\u001b[1;33m[\u001b[0m\u001b[1;34m\"has_index_names\"\u001b[0m\u001b[1;33m]\u001b[0m\u001b[1;33m\u001b[0m\u001b[1;33m\u001b[0m\u001b[0m\n\u001b[0;32m    810\u001b[0m \u001b[1;33m\u001b[0m\u001b[0m\n\u001b[1;32m--> 811\u001b[1;33m         \u001b[0mself\u001b[0m\u001b[1;33m.\u001b[0m\u001b[0m_engine\u001b[0m \u001b[1;33m=\u001b[0m \u001b[0mself\u001b[0m\u001b[1;33m.\u001b[0m\u001b[0m_make_engine\u001b[0m\u001b[1;33m(\u001b[0m\u001b[0mself\u001b[0m\u001b[1;33m.\u001b[0m\u001b[0mengine\u001b[0m\u001b[1;33m)\u001b[0m\u001b[1;33m\u001b[0m\u001b[1;33m\u001b[0m\u001b[0m\n\u001b[0m\u001b[0;32m    812\u001b[0m \u001b[1;33m\u001b[0m\u001b[0m\n\u001b[0;32m    813\u001b[0m     \u001b[1;32mdef\u001b[0m \u001b[0mclose\u001b[0m\u001b[1;33m(\u001b[0m\u001b[0mself\u001b[0m\u001b[1;33m)\u001b[0m\u001b[1;33m:\u001b[0m\u001b[1;33m\u001b[0m\u001b[1;33m\u001b[0m\u001b[0m\n",
      "\u001b[1;32mc:\\users\\paola\\appdata\\local\\programs\\python\\python38\\lib\\site-packages\\pandas\\io\\parsers\\readers.py\u001b[0m in \u001b[0;36m_make_engine\u001b[1;34m(self, engine)\u001b[0m\n\u001b[0;32m   1038\u001b[0m             )\n\u001b[0;32m   1039\u001b[0m         \u001b[1;31m# error: Too many arguments for \"ParserBase\"\u001b[0m\u001b[1;33m\u001b[0m\u001b[1;33m\u001b[0m\u001b[1;33m\u001b[0m\u001b[0m\n\u001b[1;32m-> 1040\u001b[1;33m         \u001b[1;32mreturn\u001b[0m \u001b[0mmapping\u001b[0m\u001b[1;33m[\u001b[0m\u001b[0mengine\u001b[0m\u001b[1;33m]\u001b[0m\u001b[1;33m(\u001b[0m\u001b[0mself\u001b[0m\u001b[1;33m.\u001b[0m\u001b[0mf\u001b[0m\u001b[1;33m,\u001b[0m \u001b[1;33m**\u001b[0m\u001b[0mself\u001b[0m\u001b[1;33m.\u001b[0m\u001b[0moptions\u001b[0m\u001b[1;33m)\u001b[0m  \u001b[1;31m# type: ignore[call-arg]\u001b[0m\u001b[1;33m\u001b[0m\u001b[1;33m\u001b[0m\u001b[0m\n\u001b[0m\u001b[0;32m   1041\u001b[0m \u001b[1;33m\u001b[0m\u001b[0m\n\u001b[0;32m   1042\u001b[0m     \u001b[1;32mdef\u001b[0m \u001b[0m_failover_to_python\u001b[0m\u001b[1;33m(\u001b[0m\u001b[0mself\u001b[0m\u001b[1;33m)\u001b[0m\u001b[1;33m:\u001b[0m\u001b[1;33m\u001b[0m\u001b[1;33m\u001b[0m\u001b[0m\n",
      "\u001b[1;32mc:\\users\\paola\\appdata\\local\\programs\\python\\python38\\lib\\site-packages\\pandas\\io\\parsers\\c_parser_wrapper.py\u001b[0m in \u001b[0;36m__init__\u001b[1;34m(self, src, **kwds)\u001b[0m\n\u001b[0;32m     49\u001b[0m \u001b[1;33m\u001b[0m\u001b[0m\n\u001b[0;32m     50\u001b[0m         \u001b[1;31m# open handles\u001b[0m\u001b[1;33m\u001b[0m\u001b[1;33m\u001b[0m\u001b[1;33m\u001b[0m\u001b[0m\n\u001b[1;32m---> 51\u001b[1;33m         \u001b[0mself\u001b[0m\u001b[1;33m.\u001b[0m\u001b[0m_open_handles\u001b[0m\u001b[1;33m(\u001b[0m\u001b[0msrc\u001b[0m\u001b[1;33m,\u001b[0m \u001b[0mkwds\u001b[0m\u001b[1;33m)\u001b[0m\u001b[1;33m\u001b[0m\u001b[1;33m\u001b[0m\u001b[0m\n\u001b[0m\u001b[0;32m     52\u001b[0m         \u001b[1;32massert\u001b[0m \u001b[0mself\u001b[0m\u001b[1;33m.\u001b[0m\u001b[0mhandles\u001b[0m \u001b[1;32mis\u001b[0m \u001b[1;32mnot\u001b[0m \u001b[1;32mNone\u001b[0m\u001b[1;33m\u001b[0m\u001b[1;33m\u001b[0m\u001b[0m\n\u001b[0;32m     53\u001b[0m \u001b[1;33m\u001b[0m\u001b[0m\n",
      "\u001b[1;32mc:\\users\\paola\\appdata\\local\\programs\\python\\python38\\lib\\site-packages\\pandas\\io\\parsers\\base_parser.py\u001b[0m in \u001b[0;36m_open_handles\u001b[1;34m(self, src, kwds)\u001b[0m\n\u001b[0;32m    220\u001b[0m         \u001b[0mLet\u001b[0m \u001b[0mthe\u001b[0m \u001b[0mreaders\u001b[0m \u001b[0mopen\u001b[0m \u001b[0mIOHandles\u001b[0m \u001b[0mafter\u001b[0m \u001b[0mthey\u001b[0m \u001b[0mare\u001b[0m \u001b[0mdone\u001b[0m \u001b[1;32mwith\u001b[0m \u001b[0mtheir\u001b[0m \u001b[0mpotential\u001b[0m \u001b[0mraises\u001b[0m\u001b[1;33m.\u001b[0m\u001b[1;33m\u001b[0m\u001b[1;33m\u001b[0m\u001b[0m\n\u001b[0;32m    221\u001b[0m         \"\"\"\n\u001b[1;32m--> 222\u001b[1;33m         self.handles = get_handle(\n\u001b[0m\u001b[0;32m    223\u001b[0m             \u001b[0msrc\u001b[0m\u001b[1;33m,\u001b[0m\u001b[1;33m\u001b[0m\u001b[1;33m\u001b[0m\u001b[0m\n\u001b[0;32m    224\u001b[0m             \u001b[1;34m\"r\"\u001b[0m\u001b[1;33m,\u001b[0m\u001b[1;33m\u001b[0m\u001b[1;33m\u001b[0m\u001b[0m\n",
      "\u001b[1;32mc:\\users\\paola\\appdata\\local\\programs\\python\\python38\\lib\\site-packages\\pandas\\io\\common.py\u001b[0m in \u001b[0;36mget_handle\u001b[1;34m(path_or_buf, mode, encoding, compression, memory_map, is_text, errors, storage_options)\u001b[0m\n\u001b[0;32m    700\u001b[0m         \u001b[1;32mif\u001b[0m \u001b[0mioargs\u001b[0m\u001b[1;33m.\u001b[0m\u001b[0mencoding\u001b[0m \u001b[1;32mand\u001b[0m \u001b[1;34m\"b\"\u001b[0m \u001b[1;32mnot\u001b[0m \u001b[1;32min\u001b[0m \u001b[0mioargs\u001b[0m\u001b[1;33m.\u001b[0m\u001b[0mmode\u001b[0m\u001b[1;33m:\u001b[0m\u001b[1;33m\u001b[0m\u001b[1;33m\u001b[0m\u001b[0m\n\u001b[0;32m    701\u001b[0m             \u001b[1;31m# Encoding\u001b[0m\u001b[1;33m\u001b[0m\u001b[1;33m\u001b[0m\u001b[1;33m\u001b[0m\u001b[0m\n\u001b[1;32m--> 702\u001b[1;33m             handle = open(\n\u001b[0m\u001b[0;32m    703\u001b[0m                 \u001b[0mhandle\u001b[0m\u001b[1;33m,\u001b[0m\u001b[1;33m\u001b[0m\u001b[1;33m\u001b[0m\u001b[0m\n\u001b[0;32m    704\u001b[0m                 \u001b[0mioargs\u001b[0m\u001b[1;33m.\u001b[0m\u001b[0mmode\u001b[0m\u001b[1;33m,\u001b[0m\u001b[1;33m\u001b[0m\u001b[1;33m\u001b[0m\u001b[0m\n",
      "\u001b[1;31mFileNotFoundError\u001b[0m: [Errno 2] No such file or directory: './IMDb Files/IMDb movies.csv'"
     ]
    }
   ],
   "source": [
    "import pandas as pd\n",
    "import numpy as np\n",
    "import matplotlib.pyplot as plt\n",
    "\n",
    "movies = pd.read_csv(\"IMDb movies.csv\")\n",
    "moviesdf = pd.DataFrame(movies)"
   ]
  },
  {
   "cell_type": "code",
   "execution_count": null,
   "id": "daa40e11-8d93-4a1c-86ef-bf5c33896097",
   "metadata": {},
   "outputs": [],
   "source": [
    "moviesdf.drop(columns=['budget', 'usa_gross_income', 'worlwide_gross_income', 'metascore'], inplace=True, axis=1)"
   ]
  },
  {
   "cell_type": "code",
   "execution_count": null,
   "id": "1b900a3d-848a-479d-a23c-9151172de733",
   "metadata": {},
   "outputs": [],
   "source": [
    "# filling in the na as 0 for reviews as reviews are on a scale of 0-10\n",
    "moviesdf[\"reviews_from_users\"] = moviesdf[\"reviews_from_users\"].fillna(0)\n",
    "moviesdf[\"reviews_from_critics\"] = moviesdf[\"reviews_from_critics\"].fillna(0)\n",
    "moviesdf.isnull().sum()"
   ]
  },
  {
   "cell_type": "code",
   "execution_count": null,
   "id": "d58f36c1-a397-4e42-b0f6-e107c7c7045b",
   "metadata": {},
   "outputs": [],
   "source": [
    "# filling in the na for the attributes that should remain as strings\n",
    "# all NA are UNKNOWN\n",
    "moviesdf[\"country\"] = moviesdf[\"country\"].fillna(\"UNKNOWN\")\n",
    "moviesdf[\"language\"] = moviesdf[\"language\"].fillna(\"UNKNOWN\")\n",
    "moviesdf[\"director\"] = moviesdf[\"director\"].fillna(\"UNKNOWN\")\n",
    "moviesdf[\"writer\"] = moviesdf[\"writer\"].fillna(\"UNKNOWN\")\n",
    "moviesdf[\"production_company\"] = moviesdf[\"production_company\"].fillna(\"UNKNOWN\")\n",
    "moviesdf[\"actors\"] = moviesdf[\"actors\"].fillna(\"UNKNOWN\")\n",
    "moviesdf[\"description\"] = moviesdf[\"description\"].fillna(\"UNKNOWN\")\n",
    "moviesdf.isnull().sum()"
   ]
  },
  {
   "cell_type": "code",
   "execution_count": 2,
   "id": "fc3a2b37-4719-4a7c-947b-22cbce51896d",
   "metadata": {},
   "outputs": [],
   "source": [
    "ratings = pd.read_csv(\"IMDb ratings.csv\")\n",
    "ratingsdf = pd.DataFrame(ratings)"
   ]
  },
  {
   "cell_type": "code",
   "execution_count": null,
   "id": "19dae8db-78f4-4d18-b43b-c9e18c982a5e",
   "metadata": {},
   "outputs": [],
   "source": [
    "ratingsdf.drop(columns=['allgenders_0age_avg_vote',\n",
    "                         'allgenders_0age_votes',\n",
    "                         'allgenders_18age_avg_vote',\n",
    "                         'allgenders_18age_votes',\n",
    "                         'allgenders_30age_avg_vote',\n",
    "                         'allgenders_30age_votes',\n",
    "                         'allgenders_45age_avg_vote',\n",
    "                         'allgenders_45age_votes',\n",
    "                         'males_0age_avg_vote',\n",
    "                         'males_0age_votes',\n",
    "                         'males_18age_avg_vote',\n",
    "                         'males_18age_votes',\n",
    "                         'males_30age_avg_vote',\n",
    "                         'males_30age_votes', \n",
    "                         'males_45age_avg_vote', \n",
    "                         'males_45age_votes', \n",
    "                         'females_0age_avg_vote', \n",
    "                         'females_0age_votes', \n",
    "                         'females_18age_avg_vote', \n",
    "                         'females_18age_votes', \n",
    "                         'females_30age_avg_vote', \n",
    "                         'females_30age_votes', \n",
    "                         'females_45age_avg_vote', \n",
    "                         'females_45age_votes', \n",
    "                         'top1000_voters_rating', \n",
    "                         'top1000_voters_votes', \n",
    "                         'us_voters_rating', \n",
    "                         'us_voters_votes', \n",
    "                         'non_us_voters_rating', \n",
    "                         'non_us_voters_votes'], inplace=True, axis=1)"
   ]
  },
  {
   "cell_type": "code",
   "execution_count": null,
   "id": "665a442a-3e4c-4937-b417-44962b1a8d66",
   "metadata": {},
   "outputs": [],
   "source": [
    "ratingsdf = ratingsdf.fillna(0)\n",
    "ratingsdf.isnull().sum()"
   ]
  },
  {
   "cell_type": "code",
   "execution_count": null,
   "id": "1106b596-9ce6-4337-be83-c31f1bee6ccd",
   "metadata": {},
   "outputs": [],
   "source": [
    "# merging the two merged dataframes into one complete dataframe based on 'imdb_title_id'\n",
    "complete_df = pd.merge( moviesdf, ratingsdf, on='imdb_title_id', how='outer')\n",
    "complete_df = complete_df.dropna()\n",
    "print(complete_df.isnull().sum())\n",
    "\n",
    "complete_df[['Genre1','Genre2','Genre3']] = complete_df.genre.str.split(\",\",expand=True,)\n",
    "complete_df.head(10)\n",
    "\n",
    "complete_df['avg_vote'] = complete_df['avg_vote'].round()\n",
    "complete_df['mean_vote'] = complete_df['mean_vote'].round()\n",
    "\n",
    "print(complete_df['mean_vote'])"
   ]
  },
  {
   "cell_type": "code",
   "execution_count": null,
   "id": "4f05e4c2",
   "metadata": {},
   "outputs": [],
   "source": [
    "### Splitting Genres\n",
    "\n",
    "col = set()\n",
    "\n",
    "a = list(complete_df[\"genre\"])\n",
    "for w in a:\n",
    "    b = set(w.split(\", \"))\n",
    "    col = col.union(b)    \n",
    "\n",
    "for g in col:\n",
    "    complete_df[g] = 0\n",
    "    \n",
    "for g in col:\n",
    "    complete_df.loc[complete_df[\"genre\"].isin([g]), g] = 1"
   ]
  },
  {
   "cell_type": "code",
   "execution_count": null,
   "id": "391de593-fbf1-48f1-82de-1dde61de4b0c",
   "metadata": {},
   "outputs": [],
   "source": [
    "# to get the mena of the avg votes\n",
    "directors_mean_df = complete_df.groupby(['director'])[['mean_vote']].mean()\n",
    "\n",
    "# to get the total movies they worked on\n",
    "directors_total_df = complete_df.groupby(['director'])[['title']].count()\n",
    "\n",
    "all_directors_df = pd.concat([directors_mean_df, directors_total_df], axis=1)\n",
    "all_directors_df = all_directors_df.sort_values(['title'], ascending = False)\n",
    "\n",
    "top_ten_directors = all_directors_df.head(10)\n",
    "\n",
    "top_ten_directors = top_ten_directors.sort_values(['mean_vote'], ascending = False)\n",
    "top_ten_directors.plot.barh(figsize=(15,10), y='mean_vote', width=.75, xlabel=\"Directors\", title=\"Top 10 Directors and Their Average Ratings\", color=[\"teal\"]);\n"
   ]
  },
  {
   "cell_type": "code",
   "execution_count": null,
   "id": "5b879327-7613-4782-a8be-960e538777a2",
   "metadata": {},
   "outputs": [],
   "source": [
    "genredf = complete_df.groupby(['genre'])[['mean_vote']].mean().reset_index();\n",
    "genredf = genredf.sort_values(['mean_vote'], ascending = False);\n",
    "\n",
    "toptengenre = genredf.head(10)\n",
    "\n",
    "toptengenre.plot.barh(figsize=(15,8), x=\"genre\", width=.75, xlabel=\"Genre\", title=\"Top 10 Movie Genres Based on Ratings\", color=\"teal\");\n",
    "plt.xlabel(\"Average Ratings\")\n",
    "plt.xticks(rotation='horizontal');\n",
    "\n",
    "\n",
    "male_female_genre = complete_df.groupby(['genre'])[['males_allages_avg_vote', 'females_allages_avg_vote']].mean().reset_index();\n",
    "male_genre = male_female_genre.sort_values(['males_allages_avg_vote'], ascending = False);\n",
    "female_genre = male_female_genre.sort_values(['females_allages_avg_vote'], ascending = False);\n",
    "\n",
    "\n",
    "male_genre = male_genre.head(10)\n",
    "male_genre.plot.barh(figsize=(15,10), x=\"genre\", width=.75, xlabel=\"Genre\", title=\"Top 10 Movie Genres Based on Male Ratings\", color=[\"teal\", \"plum\"]);\n",
    "plt.xlabel(\"Average Ratings\");\n",
    "\n",
    "\n",
    "female_genre = female_genre.head(10)\n",
    "female_genre.plot.barh(figsize=(15,10), x=\"genre\", width=.75, xlabel=\"Genre\", title=\"Top 10 Movie Genres Based on Female Ratings\", color=[\"teal\", \"plum\"]);\n",
    "plt.xlabel(\"Average Ratings\");"
   ]
  },
  {
   "cell_type": "code",
   "execution_count": null,
   "id": "c8ba819d-223b-4b77-96c7-683ae5cfe018",
   "metadata": {},
   "outputs": [],
   "source": [
    "## EDA, Looking For Relation between Country Origin & Rating\n",
    "## ---------------------------------------------------------\n",
    "\n",
    "## Finding Most Used Countries (top 10)\n",
    "most_freq_countries = list(complete_df['country'].value_counts()[:10].index)\n",
    "\n",
    "## Shrink Dataframe by Top10 Countries\n",
    "df = complete_df[complete_df['country'].isin(most_freq_countries)]\n",
    "\n",
    "## Calculating Avg Rating per Countries\n",
    "s = df.groupby(by=['country'])['mean_vote'].sum() #sum\n",
    "c = df['country'].value_counts()                  #counts\n",
    "\n",
    "s.sort_index(inplace=True)\n",
    "c.sort_index(inplace=True)\n",
    "\n",
    "avg_rating_countries = s/c\n",
    "\n",
    "## Graphing Findings\n",
    "avg_rating_countries.plot.barh(figsize=(15,10), width=.75, title=\"Top 10 Most Frequent Countries with Average Ratings of All Their Films\")\n",
    "plt.xlabel(\"Average Ratings\")\n",
    "plt.show()"
   ]
  },
  {
   "cell_type": "code",
   "execution_count": null,
   "id": "8e017013-a933-4b96-8542-1deec708a634",
   "metadata": {},
   "outputs": [],
   "source": [
    "## EDA, Looking For Relation between Country Origin & Rating (Continued)\n",
    "## ---------------------------------------------------------\n",
    "\n",
    "#Plotting Freq Counts\n",
    "s.plot.barh(figsize=(15,10), width=.75, title=\"Top 10 Countries with Frequency Counts of Films Released\")\n",
    "plt.xlabel(\"Counts\")"
   ]
  },
  {
   "cell_type": "code",
   "execution_count": null,
   "id": "4acce31b",
   "metadata": {},
   "outputs": [],
   "source": [
    "## EDA, Looking For Relation between Country Origin & Rating (Continued)\n",
    "## ---------------------------------------------------------\n",
    "\n",
    "fig = plt.figure(figsize=(15,10))\n",
    "ax = fig.add_axes([0,0,1,1])\n",
    "country = []\n",
    "#Plotting Quartile Info\n",
    "for i in most_freq_countries:\n",
    "    df_ = df[df['country'] == i]\n",
    "    country.append(df_['mean_vote'])\n",
    "    \n",
    "ax.set_xticklabels(most_freq_countries)\n",
    "bp = ax.boxplot(country)\n",
    "\n",
    "plt.show()"
   ]
  },
  {
   "cell_type": "code",
   "execution_count": null,
   "id": "4acf0c99",
   "metadata": {},
   "outputs": [],
   "source": [
    "\n",
    "\n"
   ]
  },
  {
   "cell_type": "code",
   "execution_count": null,
   "id": "41a92955",
   "metadata": {},
   "outputs": [],
   "source": []
  },
  {
   "cell_type": "code",
   "execution_count": null,
   "id": "3b616243",
   "metadata": {},
   "outputs": [],
   "source": []
  },
  {
   "cell_type": "code",
   "execution_count": null,
   "id": "0d35a701",
   "metadata": {},
   "outputs": [],
   "source": [
    "complete_df.to_csv(\"clean_data.csv\", sep=',')"
   ]
  },
  {
   "cell_type": "code",
   "execution_count": null,
   "id": "e0c2ab1d",
   "metadata": {},
   "outputs": [],
   "source": []
  }
 ],
 "metadata": {
  "kernelspec": {
   "display_name": "Python 3 (ipykernel)",
   "language": "python",
   "name": "python3"
  },
  "language_info": {
   "codemirror_mode": {
    "name": "ipython",
    "version": 3
   },
   "file_extension": ".py",
   "mimetype": "text/x-python",
   "name": "python",
   "nbconvert_exporter": "python",
   "pygments_lexer": "ipython3",
   "version": "3.8.7"
  }
 },
 "nbformat": 4,
 "nbformat_minor": 5
}
