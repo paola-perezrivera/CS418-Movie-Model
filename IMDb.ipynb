{
 "cells": [
  {
   "cell_type": "code",
   "execution_count": 1,
   "id": "0cb071d7-8910-428f-b045-283d64f22e90",
   "metadata": {},
   "outputs": [
    {
     "name": "stderr",
     "output_type": "stream",
     "text": [
      "/home/kt/.local/lib/python3.8/site-packages/IPython/core/interactiveshell.py:3169: DtypeWarning: Columns (3) have mixed types.Specify dtype option on import or set low_memory=False.\n",
      "  has_raised = await self.run_ast_nodes(code_ast.body, cell_name,\n"
     ]
    }
   ],
   "source": [
    "import pandas as pd\n",
    "import numpy as np\n",
    "import matplotlib.pyplot as plt\n",
    "\n",
    "movies = pd.read_csv(\"./IMDb Files/IMDb movies.csv\")\n",
    "moviesdf = pd.DataFrame(movies)"
   ]
  },
  {
   "cell_type": "code",
   "execution_count": 2,
   "id": "daa40e11-8d93-4a1c-86ef-bf5c33896097",
   "metadata": {},
   "outputs": [],
   "source": [
    "moviesdf.drop(columns=['budget', 'usa_gross_income', 'worlwide_gross_income', 'metascore'], inplace=True, axis=1)"
   ]
  },
  {
   "cell_type": "code",
   "execution_count": 3,
   "id": "1b900a3d-848a-479d-a23c-9151172de733",
   "metadata": {},
   "outputs": [
    {
     "data": {
      "text/plain": [
       "imdb_title_id              0\n",
       "title                      0\n",
       "original_title             0\n",
       "year                       0\n",
       "date_published             0\n",
       "genre                      0\n",
       "duration                   0\n",
       "country                   64\n",
       "language                 833\n",
       "director                  87\n",
       "writer                  1572\n",
       "production_company      4455\n",
       "actors                    69\n",
       "description             2115\n",
       "avg_vote                   0\n",
       "votes                      0\n",
       "reviews_from_users         0\n",
       "reviews_from_critics       0\n",
       "dtype: int64"
      ]
     },
     "execution_count": 3,
     "metadata": {},
     "output_type": "execute_result"
    }
   ],
   "source": [
    "# filling in the na as 0 for reviews as reviews are on a scale of 0-10\n",
    "moviesdf[\"reviews_from_users\"] = moviesdf[\"reviews_from_users\"].fillna(0)\n",
    "moviesdf[\"reviews_from_critics\"] = moviesdf[\"reviews_from_critics\"].fillna(0)\n",
    "moviesdf.isnull().sum()"
   ]
  },
  {
   "cell_type": "code",
   "execution_count": 4,
   "id": "d58f36c1-a397-4e42-b0f6-e107c7c7045b",
   "metadata": {},
   "outputs": [
    {
     "data": {
      "text/plain": [
       "imdb_title_id           0\n",
       "title                   0\n",
       "original_title          0\n",
       "year                    0\n",
       "date_published          0\n",
       "genre                   0\n",
       "duration                0\n",
       "country                 0\n",
       "language                0\n",
       "director                0\n",
       "writer                  0\n",
       "production_company      0\n",
       "actors                  0\n",
       "description             0\n",
       "avg_vote                0\n",
       "votes                   0\n",
       "reviews_from_users      0\n",
       "reviews_from_critics    0\n",
       "dtype: int64"
      ]
     },
     "execution_count": 4,
     "metadata": {},
     "output_type": "execute_result"
    }
   ],
   "source": [
    "# filling in the na for the attributes that should remain as strings\n",
    "# all NA are UNKNOWN\n",
    "moviesdf[\"country\"] = moviesdf[\"country\"].fillna(\"UNKNOWN\")\n",
    "moviesdf[\"language\"] = moviesdf[\"language\"].fillna(\"UNKNOWN\")\n",
    "moviesdf[\"director\"] = moviesdf[\"director\"].fillna(\"UNKNOWN\")\n",
    "moviesdf[\"writer\"] = moviesdf[\"writer\"].fillna(\"UNKNOWN\")\n",
    "moviesdf[\"production_company\"] = moviesdf[\"production_company\"].fillna(\"UNKNOWN\")\n",
    "moviesdf[\"actors\"] = moviesdf[\"actors\"].fillna(\"UNKNOWN\")\n",
    "moviesdf[\"description\"] = moviesdf[\"description\"].fillna(\"UNKNOWN\")\n",
    "moviesdf.isnull().sum()"
   ]
  },
  {
   "cell_type": "code",
   "execution_count": 5,
   "id": "fc3a2b37-4719-4a7c-947b-22cbce51896d",
   "metadata": {},
   "outputs": [],
   "source": [
    "ratings = pd.read_csv(\"./IMDb Files/IMDb ratings.csv\")\n",
    "ratingsdf = pd.DataFrame(ratings)"
   ]
  },
  {
   "cell_type": "code",
   "execution_count": 6,
   "id": "19dae8db-78f4-4d18-b43b-c9e18c982a5e",
   "metadata": {},
   "outputs": [],
   "source": [
    "ratingsdf.drop(columns=['allgenders_0age_avg_vote',\n",
    "                         'allgenders_0age_votes',\n",
    "                         'allgenders_18age_avg_vote',\n",
    "                         'allgenders_18age_votes',\n",
    "                         'allgenders_30age_avg_vote',\n",
    "                         'allgenders_30age_votes',\n",
    "                         'allgenders_45age_avg_vote',\n",
    "                         'allgenders_45age_votes',\n",
    "                         'males_0age_avg_vote',\n",
    "                         'males_0age_votes',\n",
    "                         'males_18age_avg_vote',\n",
    "                         'males_18age_votes',\n",
    "                         'males_30age_avg_vote',\n",
    "                         'males_30age_votes', \n",
    "                         'males_45age_avg_vote', \n",
    "                         'males_45age_votes', \n",
    "                         'females_0age_avg_vote', \n",
    "                         'females_0age_votes', \n",
    "                         'females_18age_avg_vote', \n",
    "                         'females_18age_votes', \n",
    "                         'females_30age_avg_vote', \n",
    "                         'females_30age_votes', \n",
    "                         'females_45age_avg_vote', \n",
    "                         'females_45age_votes', \n",
    "                         'top1000_voters_rating', \n",
    "                         'top1000_voters_votes', \n",
    "                         'us_voters_rating', \n",
    "                         'us_voters_votes', \n",
    "                         'non_us_voters_rating', \n",
    "                         'non_us_voters_votes'], inplace=True, axis=1)"
   ]
  },
  {
   "cell_type": "code",
   "execution_count": 7,
   "id": "665a442a-3e4c-4937-b417-44962b1a8d66",
   "metadata": {},
   "outputs": [
    {
     "data": {
      "text/plain": [
       "imdb_title_id               0\n",
       "weighted_average_vote       0\n",
       "total_votes                 0\n",
       "mean_vote                   0\n",
       "median_vote                 0\n",
       "votes_10                    0\n",
       "votes_9                     0\n",
       "votes_8                     0\n",
       "votes_7                     0\n",
       "votes_6                     0\n",
       "votes_5                     0\n",
       "votes_4                     0\n",
       "votes_3                     0\n",
       "votes_2                     0\n",
       "votes_1                     0\n",
       "males_allages_avg_vote      0\n",
       "males_allages_votes         0\n",
       "females_allages_avg_vote    0\n",
       "females_allages_votes       0\n",
       "dtype: int64"
      ]
     },
     "execution_count": 7,
     "metadata": {},
     "output_type": "execute_result"
    }
   ],
   "source": [
    "ratingsdf = ratingsdf.fillna(0)\n",
    "ratingsdf.isnull().sum()"
   ]
  },
  {
   "cell_type": "code",
   "execution_count": 8,
   "id": "e8c79a12-ab5a-4878-8c3e-60f2fc65cb7c",
   "metadata": {},
   "outputs": [],
   "source": [
    "names = pd.read_csv(\"./IMDb Files/IMDb names.csv\")\n",
    "namesdf = pd.DataFrame(names)"
   ]
  },
  {
   "cell_type": "code",
   "execution_count": 9,
   "id": "bd267232-560e-4544-886a-83db0c1638cd",
   "metadata": {},
   "outputs": [],
   "source": [
    "namesdf.drop(columns=['birth_name', 'height', 'bio', 'birth_details', \n",
    "                       'place_of_birth', 'date_of_birth', 'place_of_birth', \n",
    "                       'death_details', 'date_of_death', 'place_of_death', \n",
    "                       'reason_of_death', 'spouses_string', 'spouses', \n",
    "                       'divorces', 'spouses_with_children', 'children'], inplace=True, axis=1)"
   ]
  },
  {
   "cell_type": "code",
   "execution_count": 10,
   "id": "bdd1c5dd-7eef-4c25-a674-fd6beb6c6c9c",
   "metadata": {},
   "outputs": [
    {
     "data": {
      "text/plain": [
       "imdb_name_id    0\n",
       "name            0\n",
       "dtype: int64"
      ]
     },
     "execution_count": 10,
     "metadata": {},
     "output_type": "execute_result"
    }
   ],
   "source": [
    "namesdf.isnull().sum()"
   ]
  },
  {
   "cell_type": "code",
   "execution_count": 11,
   "id": "05e0f977-4b96-4997-b64d-65a19529265b",
   "metadata": {},
   "outputs": [
    {
     "ename": "FileNotFoundError",
     "evalue": "[Errno 2] No such file or directory: 'IMDb title_principals.csv'",
     "output_type": "error",
     "traceback": [
      "\u001b[0;31m---------------------------------------------------------------------------\u001b[0m",
      "\u001b[0;31mFileNotFoundError\u001b[0m                         Traceback (most recent call last)",
      "\u001b[0;32m/tmp/ipykernel_16550/89523156.py\u001b[0m in \u001b[0;36m<module>\u001b[0;34m\u001b[0m\n\u001b[0;32m----> 1\u001b[0;31m \u001b[0mtitleP\u001b[0m \u001b[0;34m=\u001b[0m \u001b[0mpd\u001b[0m\u001b[0;34m.\u001b[0m\u001b[0mread_csv\u001b[0m\u001b[0;34m(\u001b[0m\u001b[0;34m\"IMDb title_principals.csv\"\u001b[0m\u001b[0;34m)\u001b[0m\u001b[0;34m\u001b[0m\u001b[0;34m\u001b[0m\u001b[0m\n\u001b[0m\u001b[1;32m      2\u001b[0m \u001b[0mtitlePdf\u001b[0m \u001b[0;34m=\u001b[0m \u001b[0mpd\u001b[0m\u001b[0;34m.\u001b[0m\u001b[0mDataFrame\u001b[0m\u001b[0;34m(\u001b[0m\u001b[0mtitleP\u001b[0m\u001b[0;34m)\u001b[0m\u001b[0;34m\u001b[0m\u001b[0;34m\u001b[0m\u001b[0m\n",
      "\u001b[0;32m~/.local/lib/python3.8/site-packages/pandas/io/parsers.py\u001b[0m in \u001b[0;36mread_csv\u001b[0;34m(filepath_or_buffer, sep, delimiter, header, names, index_col, usecols, squeeze, prefix, mangle_dupe_cols, dtype, engine, converters, true_values, false_values, skipinitialspace, skiprows, skipfooter, nrows, na_values, keep_default_na, na_filter, verbose, skip_blank_lines, parse_dates, infer_datetime_format, keep_date_col, date_parser, dayfirst, cache_dates, iterator, chunksize, compression, thousands, decimal, lineterminator, quotechar, quoting, doublequote, escapechar, comment, encoding, dialect, error_bad_lines, warn_bad_lines, delim_whitespace, low_memory, memory_map, float_precision, storage_options)\u001b[0m\n\u001b[1;32m    608\u001b[0m     \u001b[0mkwds\u001b[0m\u001b[0;34m.\u001b[0m\u001b[0mupdate\u001b[0m\u001b[0;34m(\u001b[0m\u001b[0mkwds_defaults\u001b[0m\u001b[0;34m)\u001b[0m\u001b[0;34m\u001b[0m\u001b[0;34m\u001b[0m\u001b[0m\n\u001b[1;32m    609\u001b[0m \u001b[0;34m\u001b[0m\u001b[0m\n\u001b[0;32m--> 610\u001b[0;31m     \u001b[0;32mreturn\u001b[0m \u001b[0m_read\u001b[0m\u001b[0;34m(\u001b[0m\u001b[0mfilepath_or_buffer\u001b[0m\u001b[0;34m,\u001b[0m \u001b[0mkwds\u001b[0m\u001b[0;34m)\u001b[0m\u001b[0;34m\u001b[0m\u001b[0;34m\u001b[0m\u001b[0m\n\u001b[0m\u001b[1;32m    611\u001b[0m \u001b[0;34m\u001b[0m\u001b[0m\n\u001b[1;32m    612\u001b[0m \u001b[0;34m\u001b[0m\u001b[0m\n",
      "\u001b[0;32m~/.local/lib/python3.8/site-packages/pandas/io/parsers.py\u001b[0m in \u001b[0;36m_read\u001b[0;34m(filepath_or_buffer, kwds)\u001b[0m\n\u001b[1;32m    460\u001b[0m \u001b[0;34m\u001b[0m\u001b[0m\n\u001b[1;32m    461\u001b[0m     \u001b[0;31m# Create the parser.\u001b[0m\u001b[0;34m\u001b[0m\u001b[0;34m\u001b[0m\u001b[0;34m\u001b[0m\u001b[0m\n\u001b[0;32m--> 462\u001b[0;31m     \u001b[0mparser\u001b[0m \u001b[0;34m=\u001b[0m \u001b[0mTextFileReader\u001b[0m\u001b[0;34m(\u001b[0m\u001b[0mfilepath_or_buffer\u001b[0m\u001b[0;34m,\u001b[0m \u001b[0;34m**\u001b[0m\u001b[0mkwds\u001b[0m\u001b[0;34m)\u001b[0m\u001b[0;34m\u001b[0m\u001b[0;34m\u001b[0m\u001b[0m\n\u001b[0m\u001b[1;32m    463\u001b[0m \u001b[0;34m\u001b[0m\u001b[0m\n\u001b[1;32m    464\u001b[0m     \u001b[0;32mif\u001b[0m \u001b[0mchunksize\u001b[0m \u001b[0;32mor\u001b[0m \u001b[0miterator\u001b[0m\u001b[0;34m:\u001b[0m\u001b[0;34m\u001b[0m\u001b[0;34m\u001b[0m\u001b[0m\n",
      "\u001b[0;32m~/.local/lib/python3.8/site-packages/pandas/io/parsers.py\u001b[0m in \u001b[0;36m__init__\u001b[0;34m(self, f, engine, **kwds)\u001b[0m\n\u001b[1;32m    817\u001b[0m             \u001b[0mself\u001b[0m\u001b[0;34m.\u001b[0m\u001b[0moptions\u001b[0m\u001b[0;34m[\u001b[0m\u001b[0;34m\"has_index_names\"\u001b[0m\u001b[0;34m]\u001b[0m \u001b[0;34m=\u001b[0m \u001b[0mkwds\u001b[0m\u001b[0;34m[\u001b[0m\u001b[0;34m\"has_index_names\"\u001b[0m\u001b[0;34m]\u001b[0m\u001b[0;34m\u001b[0m\u001b[0;34m\u001b[0m\u001b[0m\n\u001b[1;32m    818\u001b[0m \u001b[0;34m\u001b[0m\u001b[0m\n\u001b[0;32m--> 819\u001b[0;31m         \u001b[0mself\u001b[0m\u001b[0;34m.\u001b[0m\u001b[0m_engine\u001b[0m \u001b[0;34m=\u001b[0m \u001b[0mself\u001b[0m\u001b[0;34m.\u001b[0m\u001b[0m_make_engine\u001b[0m\u001b[0;34m(\u001b[0m\u001b[0mself\u001b[0m\u001b[0;34m.\u001b[0m\u001b[0mengine\u001b[0m\u001b[0;34m)\u001b[0m\u001b[0;34m\u001b[0m\u001b[0;34m\u001b[0m\u001b[0m\n\u001b[0m\u001b[1;32m    820\u001b[0m \u001b[0;34m\u001b[0m\u001b[0m\n\u001b[1;32m    821\u001b[0m     \u001b[0;32mdef\u001b[0m \u001b[0mclose\u001b[0m\u001b[0;34m(\u001b[0m\u001b[0mself\u001b[0m\u001b[0;34m)\u001b[0m\u001b[0;34m:\u001b[0m\u001b[0;34m\u001b[0m\u001b[0;34m\u001b[0m\u001b[0m\n",
      "\u001b[0;32m~/.local/lib/python3.8/site-packages/pandas/io/parsers.py\u001b[0m in \u001b[0;36m_make_engine\u001b[0;34m(self, engine)\u001b[0m\n\u001b[1;32m   1048\u001b[0m             )\n\u001b[1;32m   1049\u001b[0m         \u001b[0;31m# error: Too many arguments for \"ParserBase\"\u001b[0m\u001b[0;34m\u001b[0m\u001b[0;34m\u001b[0m\u001b[0;34m\u001b[0m\u001b[0m\n\u001b[0;32m-> 1050\u001b[0;31m         \u001b[0;32mreturn\u001b[0m \u001b[0mmapping\u001b[0m\u001b[0;34m[\u001b[0m\u001b[0mengine\u001b[0m\u001b[0;34m]\u001b[0m\u001b[0;34m(\u001b[0m\u001b[0mself\u001b[0m\u001b[0;34m.\u001b[0m\u001b[0mf\u001b[0m\u001b[0;34m,\u001b[0m \u001b[0;34m**\u001b[0m\u001b[0mself\u001b[0m\u001b[0;34m.\u001b[0m\u001b[0moptions\u001b[0m\u001b[0;34m)\u001b[0m  \u001b[0;31m# type: ignore[call-arg]\u001b[0m\u001b[0;34m\u001b[0m\u001b[0;34m\u001b[0m\u001b[0m\n\u001b[0m\u001b[1;32m   1051\u001b[0m \u001b[0;34m\u001b[0m\u001b[0m\n\u001b[1;32m   1052\u001b[0m     \u001b[0;32mdef\u001b[0m \u001b[0m_failover_to_python\u001b[0m\u001b[0;34m(\u001b[0m\u001b[0mself\u001b[0m\u001b[0;34m)\u001b[0m\u001b[0;34m:\u001b[0m\u001b[0;34m\u001b[0m\u001b[0;34m\u001b[0m\u001b[0m\n",
      "\u001b[0;32m~/.local/lib/python3.8/site-packages/pandas/io/parsers.py\u001b[0m in \u001b[0;36m__init__\u001b[0;34m(self, src, **kwds)\u001b[0m\n\u001b[1;32m   1865\u001b[0m \u001b[0;34m\u001b[0m\u001b[0m\n\u001b[1;32m   1866\u001b[0m         \u001b[0;31m# open handles\u001b[0m\u001b[0;34m\u001b[0m\u001b[0;34m\u001b[0m\u001b[0;34m\u001b[0m\u001b[0m\n\u001b[0;32m-> 1867\u001b[0;31m         \u001b[0mself\u001b[0m\u001b[0;34m.\u001b[0m\u001b[0m_open_handles\u001b[0m\u001b[0;34m(\u001b[0m\u001b[0msrc\u001b[0m\u001b[0;34m,\u001b[0m \u001b[0mkwds\u001b[0m\u001b[0;34m)\u001b[0m\u001b[0;34m\u001b[0m\u001b[0;34m\u001b[0m\u001b[0m\n\u001b[0m\u001b[1;32m   1868\u001b[0m         \u001b[0;32massert\u001b[0m \u001b[0mself\u001b[0m\u001b[0;34m.\u001b[0m\u001b[0mhandles\u001b[0m \u001b[0;32mis\u001b[0m \u001b[0;32mnot\u001b[0m \u001b[0;32mNone\u001b[0m\u001b[0;34m\u001b[0m\u001b[0;34m\u001b[0m\u001b[0m\n\u001b[1;32m   1869\u001b[0m         \u001b[0;32mfor\u001b[0m \u001b[0mkey\u001b[0m \u001b[0;32min\u001b[0m \u001b[0;34m(\u001b[0m\u001b[0;34m\"storage_options\"\u001b[0m\u001b[0;34m,\u001b[0m \u001b[0;34m\"encoding\"\u001b[0m\u001b[0;34m,\u001b[0m \u001b[0;34m\"memory_map\"\u001b[0m\u001b[0;34m,\u001b[0m \u001b[0;34m\"compression\"\u001b[0m\u001b[0;34m)\u001b[0m\u001b[0;34m:\u001b[0m\u001b[0;34m\u001b[0m\u001b[0;34m\u001b[0m\u001b[0m\n",
      "\u001b[0;32m~/.local/lib/python3.8/site-packages/pandas/io/parsers.py\u001b[0m in \u001b[0;36m_open_handles\u001b[0;34m(self, src, kwds)\u001b[0m\n\u001b[1;32m   1360\u001b[0m         \u001b[0mLet\u001b[0m \u001b[0mthe\u001b[0m \u001b[0mreaders\u001b[0m \u001b[0mopen\u001b[0m \u001b[0mIOHanldes\u001b[0m \u001b[0mafter\u001b[0m \u001b[0mthey\u001b[0m \u001b[0mare\u001b[0m \u001b[0mdone\u001b[0m \u001b[0;32mwith\u001b[0m \u001b[0mtheir\u001b[0m \u001b[0mpotential\u001b[0m \u001b[0mraises\u001b[0m\u001b[0;34m.\u001b[0m\u001b[0;34m\u001b[0m\u001b[0;34m\u001b[0m\u001b[0m\n\u001b[1;32m   1361\u001b[0m         \"\"\"\n\u001b[0;32m-> 1362\u001b[0;31m         self.handles = get_handle(\n\u001b[0m\u001b[1;32m   1363\u001b[0m             \u001b[0msrc\u001b[0m\u001b[0;34m,\u001b[0m\u001b[0;34m\u001b[0m\u001b[0;34m\u001b[0m\u001b[0m\n\u001b[1;32m   1364\u001b[0m             \u001b[0;34m\"r\"\u001b[0m\u001b[0;34m,\u001b[0m\u001b[0;34m\u001b[0m\u001b[0;34m\u001b[0m\u001b[0m\n",
      "\u001b[0;32m~/.local/lib/python3.8/site-packages/pandas/io/common.py\u001b[0m in \u001b[0;36mget_handle\u001b[0;34m(path_or_buf, mode, encoding, compression, memory_map, is_text, errors, storage_options)\u001b[0m\n\u001b[1;32m    640\u001b[0m                 \u001b[0merrors\u001b[0m \u001b[0;34m=\u001b[0m \u001b[0;34m\"replace\"\u001b[0m\u001b[0;34m\u001b[0m\u001b[0;34m\u001b[0m\u001b[0m\n\u001b[1;32m    641\u001b[0m             \u001b[0;31m# Encoding\u001b[0m\u001b[0;34m\u001b[0m\u001b[0;34m\u001b[0m\u001b[0;34m\u001b[0m\u001b[0m\n\u001b[0;32m--> 642\u001b[0;31m             handle = open(\n\u001b[0m\u001b[1;32m    643\u001b[0m                 \u001b[0mhandle\u001b[0m\u001b[0;34m,\u001b[0m\u001b[0;34m\u001b[0m\u001b[0;34m\u001b[0m\u001b[0m\n\u001b[1;32m    644\u001b[0m                 \u001b[0mioargs\u001b[0m\u001b[0;34m.\u001b[0m\u001b[0mmode\u001b[0m\u001b[0;34m,\u001b[0m\u001b[0;34m\u001b[0m\u001b[0;34m\u001b[0m\u001b[0m\n",
      "\u001b[0;31mFileNotFoundError\u001b[0m: [Errno 2] No such file or directory: 'IMDb title_principals.csv'"
     ]
    }
   ],
   "source": [
    "titleP = pd.read_csv(\"IMDb title_principals.csv\")\n",
    "titlePdf = pd.DataFrame(titleP)"
   ]
  },
  {
   "cell_type": "code",
   "execution_count": null,
   "id": "2feaac62-e4eb-4128-b74c-bf7870691587",
   "metadata": {},
   "outputs": [],
   "source": [
    "titlePdf.drop(columns=['job', 'characters'], inplace=True, axis=1)"
   ]
  },
  {
   "cell_type": "code",
   "execution_count": null,
   "id": "c9185ae8-e039-42ee-9435-45c5baa8c40c",
   "metadata": {},
   "outputs": [],
   "source": [
    "titlePdf.isnull().sum()"
   ]
  },
  {
   "cell_type": "code",
   "execution_count": null,
   "id": "1106b596-9ce6-4337-be83-c31f1bee6ccd",
   "metadata": {},
   "outputs": [],
   "source": [
    "# merged moviesdf and ratingsdf on the common attribute imdb_title_id\n",
    "movies_ratings_df = pd.merge( moviesdf, ratingsdf, on='imdb_title_id', how='outer')\n",
    "\n",
    "# merges title_principle dataframe with name dataframe based on the imdb_name_id\n",
    "titles_names_df = pd.merge( titlePdf, namesdf, on='imdb_name_id', how='outer')\n",
    "titles_names_df = titles_names_df.dropna()\n",
    "\n",
    "# merging the two merged dataframes into one complete dataframe based on 'imdb_title_id'\n",
    "complete_df = pd.merge( movies_ratings_df, titles_names_df, on='imdb_title_id', how='outer')\n",
    "complete_df = complete_df.dropna()\n",
    "complete_df.isnull().sum()"
   ]
  },
  {
   "cell_type": "code",
   "execution_count": null,
   "id": "391de593-fbf1-48f1-82de-1dde61de4b0c",
   "metadata": {},
   "outputs": [],
   "source": [
    "# to get the mena of the avg votes\n",
    "directors_mean_df = complete_df.groupby(['director'])[['mean_vote']].mean()\n",
    "\n",
    "# to get the total movies they worked on\n",
    "directors_total_df = complete_df.groupby(['director'])[['title']].count()\n",
    "\n",
    "all_directors_df = pd.concat([directors_mean_df, directors_total_df], axis=1)\n",
    "all_directors_df = all_directors_df.sort_values(['title'], ascending = False)\n",
    "\n",
    "top_ten_directors = all_directors_df.head(10)\n",
    "\n",
    "top_ten_directors = top_ten_directors.sort_values(['mean_vote'], ascending = False)\n",
    "top_ten_directors.plot.barh(figsize=(15,10), y='mean_vote', width=.75, xlabel=\"Directors\", title=\"Top 10 Directors and Their Average Ratings\", color=[\"teal\"]);\n"
   ]
  },
  {
   "cell_type": "code",
   "execution_count": null,
   "id": "5b879327-7613-4782-a8be-960e538777a2",
   "metadata": {},
   "outputs": [],
   "source": [
    "genredf = complete_df.groupby(['genre'])[['mean_vote']].mean().reset_index();\n",
    "genredf = genredf.sort_values(['mean_vote'], ascending = False);\n",
    "\n",
    "toptengenre = genredf.head(10)\n",
    "\n",
    "toptengenre.plot.barh(figsize=(15,8), x=\"genre\", width=.75, xlabel=\"Genre\", title=\"Top 10 Movie Genres Based on Ratings\", color=\"teal\");\n",
    "plt.xlabel(\"Average Ratings\")\n",
    "plt.xticks(rotation='horizontal');\n",
    "\n",
    "\n",
    "male_female_genre = complete_df.groupby(['genre'])[['males_allages_avg_vote', 'females_allages_avg_vote']].mean().reset_index();\n",
    "male_genre = male_female_genre.sort_values(['males_allages_avg_vote'], ascending = False);\n",
    "female_genre = male_female_genre.sort_values(['females_allages_avg_vote'], ascending = False);\n",
    "\n",
    "\n",
    "male_genre = male_genre.head(10)\n",
    "male_genre.plot.barh(figsize=(15,10), x=\"genre\", width=.75, xlabel=\"Genre\", title=\"Top 10 Movie Genres Based on Male Ratings\", color=[\"teal\", \"plum\"]);\n",
    "plt.xlabel(\"Average Ratings\");\n",
    "\n",
    "\n",
    "female_genre = female_genre.head(10)\n",
    "female_genre.plot.barh(figsize=(15,10), x=\"genre\", width=.75, xlabel=\"Genre\", title=\"Top 10 Movie Genres Based on Female Ratings\", color=[\"teal\", \"plum\"]);\n",
    "plt.xlabel(\"Average Ratings\");"
   ]
  },
  {
   "cell_type": "code",
   "execution_count": null,
   "id": "c8ba819d-223b-4b77-96c7-683ae5cfe018",
   "metadata": {},
   "outputs": [],
   "source": [
    "## EDA, Looking For Relation between Country Origin & Rating\n",
    "\n",
    "print(movies_ratings_df.columns)\n"
   ]
  },
  {
   "cell_type": "code",
   "execution_count": null,
   "id": "8e017013-a933-4b96-8542-1deec708a634",
   "metadata": {},
   "outputs": [],
   "source": []
  }
 ],
 "metadata": {
  "kernelspec": {
   "display_name": "Python 3 (ipykernel)",
   "language": "python",
   "name": "python3"
  },
  "language_info": {
   "codemirror_mode": {
    "name": "ipython",
    "version": 3
   },
   "file_extension": ".py",
   "mimetype": "text/x-python",
   "name": "python",
   "nbconvert_exporter": "python",
   "pygments_lexer": "ipython3",
   "version": "3.8.10"
  }
 },
 "nbformat": 4,
 "nbformat_minor": 5
}
