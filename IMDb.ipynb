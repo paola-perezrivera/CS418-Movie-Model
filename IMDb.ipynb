{
 "cells": [
  {
   "cell_type": "code",
   "execution_count": 14,
   "id": "0cb071d7-8910-428f-b045-283d64f22e90",
   "metadata": {},
   "outputs": [],
   "source": [
    "import pandas as pd\n",
    "import numpy as np\n",
    "\n",
    "movies = pd.read_csv(\"IMDb movies.csv\")\n",
    "moviesdf = pd.DataFrame(movies)"
   ]
  },
  {
   "cell_type": "code",
   "execution_count": 15,
   "id": "daa40e11-8d93-4a1c-86ef-bf5c33896097",
   "metadata": {},
   "outputs": [],
   "source": [
    "moviesdf.drop(columns=['budget', 'usa_gross_income', 'worlwide_gross_income', 'metascore'], inplace=True, axis=1)"
   ]
  },
  {
   "cell_type": "code",
   "execution_count": 3,
   "id": "1b900a3d-848a-479d-a23c-9151172de733",
   "metadata": {},
   "outputs": [
    {
     "data": {
      "text/plain": [
       "imdb_title_id              0\n",
       "title                      0\n",
       "original_title             0\n",
       "year                       0\n",
       "date_published             0\n",
       "genre                      0\n",
       "duration                   0\n",
       "country                   64\n",
       "language                 833\n",
       "director                  87\n",
       "writer                  1572\n",
       "production_company      4455\n",
       "actors                    69\n",
       "description             2115\n",
       "avg_vote                   0\n",
       "votes                      0\n",
       "reviews_from_users         0\n",
       "reviews_from_critics       0\n",
       "dtype: int64"
      ]
     },
     "execution_count": 3,
     "metadata": {},
     "output_type": "execute_result"
    }
   ],
   "source": [
    "moviesdf[\"reviews_from_users\"] = moviesdf[\"reviews_from_users\"].fillna(0)\n",
    "moviesdf[\"reviews_from_critics\"] = moviesdf[\"reviews_from_critics\"].fillna(0)\n",
    "moviesdf.isnull().sum()"
   ]
  },
  {
   "cell_type": "code",
   "execution_count": 4,
   "id": "d58f36c1-a397-4e42-b0f6-e107c7c7045b",
   "metadata": {},
   "outputs": [
    {
     "data": {
      "text/plain": [
       "imdb_title_id           0\n",
       "title                   0\n",
       "original_title          0\n",
       "year                    0\n",
       "date_published          0\n",
       "genre                   0\n",
       "duration                0\n",
       "country                 0\n",
       "language                0\n",
       "director                0\n",
       "writer                  0\n",
       "production_company      0\n",
       "actors                  0\n",
       "description             0\n",
       "avg_vote                0\n",
       "votes                   0\n",
       "reviews_from_users      0\n",
       "reviews_from_critics    0\n",
       "dtype: int64"
      ]
     },
     "execution_count": 4,
     "metadata": {},
     "output_type": "execute_result"
    }
   ],
   "source": [
    "moviesdf[\"country\"] = moviesdf[\"country\"].fillna(\"UNKNOWN\")\n",
    "moviesdf[\"language\"] = moviesdf[\"language\"].fillna(\"UNKNOWN\")\n",
    "moviesdf[\"director\"] = moviesdf[\"director\"].fillna(\"UNKNOWN\")\n",
    "moviesdf[\"writer\"] = moviesdf[\"writer\"].fillna(\"UNKNOWN\")\n",
    "moviesdf[\"production_company\"] = moviesdf[\"production_company\"].fillna(\"UNKNOWN\")\n",
    "moviesdf[\"actors\"] = moviesdf[\"actors\"].fillna(\"UNKNOWN\")\n",
    "moviesdf[\"description\"] = moviesdf[\"description\"].fillna(\"UNKNOWN\")\n",
    "moviesdf.isnull().sum()"
   ]
  },
  {
   "cell_type": "code",
   "execution_count": 5,
   "id": "fc3a2b37-4719-4a7c-947b-22cbce51896d",
   "metadata": {},
   "outputs": [],
   "source": [
    "ratings = pd.read_csv(\"IMDb ratings.csv\")\n",
    "ratingsdf = pd.DataFrame(ratings)"
   ]
  },
  {
   "cell_type": "code",
   "execution_count": 6,
   "id": "19dae8db-78f4-4d18-b43b-c9e18c982a5e",
   "metadata": {},
   "outputs": [],
   "source": [
    "ratingsdf.drop(columns=['allgenders_0age_avg_vote',\n",
    "                         'allgenders_0age_votes',\n",
    "                         'allgenders_18age_avg_vote',\n",
    "                         'allgenders_18age_votes',\n",
    "                         'allgenders_30age_avg_vote',\n",
    "                         'allgenders_30age_votes',\n",
    "                         'allgenders_45age_avg_vote',\n",
    "                         'allgenders_45age_votes',\n",
    "                         'males_0age_avg_vote',\n",
    "                         'males_0age_votes',\n",
    "                         'males_18age_avg_vote',\n",
    "                         'males_18age_votes',\n",
    "                         'males_30age_avg_vote',\n",
    "                         'males_30age_votes', \n",
    "                         'males_45age_avg_vote', \n",
    "                         'males_45age_votes', \n",
    "                         'females_0age_avg_vote', \n",
    "                         'females_0age_votes', \n",
    "                         'females_18age_avg_vote', \n",
    "                         'females_18age_votes', \n",
    "                         'females_30age_avg_vote', \n",
    "                         'females_30age_votes', \n",
    "                         'females_45age_avg_vote', \n",
    "                         'females_45age_votes', \n",
    "                         'top1000_voters_rating', \n",
    "                         'top1000_voters_votes', \n",
    "                         'us_voters_rating', \n",
    "                         'us_voters_votes', \n",
    "                         'non_us_voters_rating', \n",
    "                         'non_us_voters_votes'], inplace=True, axis=1)"
   ]
  },
  {
   "cell_type": "code",
   "execution_count": 7,
   "id": "665a442a-3e4c-4937-b417-44962b1a8d66",
   "metadata": {},
   "outputs": [
    {
     "data": {
      "text/plain": [
       "imdb_title_id               0\n",
       "weighted_average_vote       0\n",
       "total_votes                 0\n",
       "mean_vote                   0\n",
       "median_vote                 0\n",
       "votes_10                    0\n",
       "votes_9                     0\n",
       "votes_8                     0\n",
       "votes_7                     0\n",
       "votes_6                     0\n",
       "votes_5                     0\n",
       "votes_4                     0\n",
       "votes_3                     0\n",
       "votes_2                     0\n",
       "votes_1                     0\n",
       "males_allages_avg_vote      0\n",
       "males_allages_votes         0\n",
       "females_allages_avg_vote    0\n",
       "females_allages_votes       0\n",
       "dtype: int64"
      ]
     },
     "execution_count": 7,
     "metadata": {},
     "output_type": "execute_result"
    }
   ],
   "source": [
    "ratingsdf = ratingsdf.fillna(0)\n",
    "ratingsdf.isnull().sum()"
   ]
  },
  {
   "cell_type": "code",
   "execution_count": 8,
   "id": "e8c79a12-ab5a-4878-8c3e-60f2fc65cb7c",
   "metadata": {},
   "outputs": [],
   "source": [
    "names = pd.read_csv(\"IMDb names.csv\")\n",
    "namesdf = pd.DataFrame(names)"
   ]
  },
  {
   "cell_type": "code",
   "execution_count": 9,
   "id": "bd267232-560e-4544-886a-83db0c1638cd",
   "metadata": {},
   "outputs": [],
   "source": [
    "namesdf.drop(columns=['birth_name', 'height', 'bio', 'birth_details', \n",
    "                       'place_of_birth', 'date_of_birth', 'place_of_birth', \n",
    "                       'death_details', 'date_of_death', 'place_of_death', \n",
    "                       'reason_of_death', 'spouses_string', 'spouses', \n",
    "                       'divorces', 'spouses_with_children', 'children'], inplace=True, axis=1)"
   ]
  },
  {
   "cell_type": "code",
   "execution_count": 10,
   "id": "bdd1c5dd-7eef-4c25-a674-fd6beb6c6c9c",
   "metadata": {},
   "outputs": [
    {
     "data": {
      "text/plain": [
       "imdb_name_id    0\n",
       "name            0\n",
       "dtype: int64"
      ]
     },
     "execution_count": 10,
     "metadata": {},
     "output_type": "execute_result"
    }
   ],
   "source": [
    "namesdf.isnull().sum()"
   ]
  },
  {
   "cell_type": "code",
   "execution_count": 11,
   "id": "05e0f977-4b96-4997-b64d-65a19529265b",
   "metadata": {},
   "outputs": [],
   "source": [
    "titleP = pd.read_csv(\"IMDb title_principals.csv\")\n",
    "titlePdf = pd.DataFrame(titleP)"
   ]
  },
  {
   "cell_type": "code",
   "execution_count": 12,
   "id": "2feaac62-e4eb-4128-b74c-bf7870691587",
   "metadata": {},
   "outputs": [],
   "source": [
    "titlePdf.drop(columns=['job', 'characters'], inplace=True, axis=1)"
   ]
  },
  {
   "cell_type": "code",
   "execution_count": 13,
   "id": "c9185ae8-e039-42ee-9435-45c5baa8c40c",
   "metadata": {},
   "outputs": [
    {
     "data": {
      "text/plain": [
       "imdb_title_id    0\n",
       "ordering         0\n",
       "imdb_name_id     0\n",
       "category         0\n",
       "dtype: int64"
      ]
     },
     "execution_count": 13,
     "metadata": {},
     "output_type": "execute_result"
    }
   ],
   "source": [
    "titlePdf.isnull().sum()"
   ]
  },
  {
   "cell_type": "code",
   "execution_count": null,
   "id": "1106b596-9ce6-4337-be83-c31f1bee6ccd",
   "metadata": {},
   "outputs": [],
   "source": []
  },
  {
   "cell_type": "code",
   "execution_count": null,
   "id": "391de593-fbf1-48f1-82de-1dde61de4b0c",
   "metadata": {},
   "outputs": [],
   "source": []
  }
 ],
 "metadata": {
  "kernelspec": {
   "display_name": "Python 3",
   "language": "python",
   "name": "python3"
  },
  "language_info": {
   "codemirror_mode": {
    "name": "ipython",
    "version": 3
   },
   "file_extension": ".py",
   "mimetype": "text/x-python",
   "name": "python",
   "nbconvert_exporter": "python",
   "pygments_lexer": "ipython3",
   "version": "3.8.8"
  }
 },
 "nbformat": 4,
 "nbformat_minor": 5
}
