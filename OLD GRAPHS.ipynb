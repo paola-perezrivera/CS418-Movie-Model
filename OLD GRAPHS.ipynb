{
 "cells": [
  {
   "cell_type": "code",
   "execution_count": 1,
   "id": "77d97a14-f8a3-47e0-8a48-08d49b132ca6",
   "metadata": {},
   "outputs": [
    {
     "name": "stderr",
     "output_type": "stream",
     "text": [
      "/Users/shrutiitalia/opt/anaconda3/lib/python3.8/site-packages/IPython/core/interactiveshell.py:3165: DtypeWarning: Columns (3) have mixed types.Specify dtype option on import or set low_memory=False.\n",
      "  has_raised = await self.run_ast_nodes(code_ast.body, cell_name,\n"
     ]
    }
   ],
   "source": [
    "import pandas as pd\n",
    "import numpy as np\n",
    "import matplotlib.pyplot as plt\n",
    "\n",
    "movies = pd.read_csv(\"IMDb movies.csv\")\n",
    "moviesdf = pd.DataFrame(movies)"
   ]
  },
  {
   "cell_type": "code",
   "execution_count": 2,
   "id": "7997220e-6cf2-40b7-87b2-0e3dfbae55b9",
   "metadata": {},
   "outputs": [],
   "source": [
    "moviesdf.drop(columns=['budget', 'usa_gross_income', 'worlwide_gross_income', 'metascore'], inplace=True, axis=1)"
   ]
  },
  {
   "cell_type": "code",
   "execution_count": 3,
   "id": "c68b4203-3109-4ad8-b608-7458f34906ca",
   "metadata": {},
   "outputs": [
    {
     "data": {
      "text/plain": [
       "imdb_title_id              0\n",
       "title                      0\n",
       "original_title             0\n",
       "year                       0\n",
       "date_published             0\n",
       "genre                      0\n",
       "duration                   0\n",
       "country                   64\n",
       "language                 833\n",
       "director                  87\n",
       "writer                  1572\n",
       "production_company      4455\n",
       "actors                    69\n",
       "description             2115\n",
       "avg_vote                   0\n",
       "votes                      0\n",
       "reviews_from_users         0\n",
       "reviews_from_critics       0\n",
       "dtype: int64"
      ]
     },
     "execution_count": 3,
     "metadata": {},
     "output_type": "execute_result"
    }
   ],
   "source": [
    "# filling in the na as 0 for reviews as reviews are on a scale of 0-10\n",
    "moviesdf[\"reviews_from_users\"] = moviesdf[\"reviews_from_users\"].fillna(0)\n",
    "moviesdf[\"reviews_from_critics\"] = moviesdf[\"reviews_from_critics\"].fillna(0)\n",
    "moviesdf.isnull().sum()"
   ]
  },
  {
   "cell_type": "code",
   "execution_count": 4,
   "id": "e64dbe4f-378c-4c35-b7a9-87d0e55fa1ea",
   "metadata": {},
   "outputs": [
    {
     "data": {
      "text/plain": [
       "imdb_title_id           0\n",
       "title                   0\n",
       "original_title          0\n",
       "year                    0\n",
       "date_published          0\n",
       "genre                   0\n",
       "duration                0\n",
       "country                 0\n",
       "language                0\n",
       "director                0\n",
       "writer                  0\n",
       "production_company      0\n",
       "actors                  0\n",
       "description             0\n",
       "avg_vote                0\n",
       "votes                   0\n",
       "reviews_from_users      0\n",
       "reviews_from_critics    0\n",
       "dtype: int64"
      ]
     },
     "execution_count": 4,
     "metadata": {},
     "output_type": "execute_result"
    }
   ],
   "source": [
    "# filling in the na for the attributes that should remain as strings\n",
    "# all NA are UNKNOWN\n",
    "moviesdf[\"country\"] = moviesdf[\"country\"].fillna(\"UNKNOWN\")\n",
    "moviesdf[\"language\"] = moviesdf[\"language\"].fillna(\"UNKNOWN\")\n",
    "moviesdf[\"director\"] = moviesdf[\"director\"].fillna(\"UNKNOWN\")\n",
    "moviesdf[\"writer\"] = moviesdf[\"writer\"].fillna(\"UNKNOWN\")\n",
    "moviesdf[\"production_company\"] = moviesdf[\"production_company\"].fillna(\"UNKNOWN\")\n",
    "moviesdf[\"actors\"] = moviesdf[\"actors\"].fillna(\"UNKNOWN\")\n",
    "moviesdf[\"description\"] = moviesdf[\"description\"].fillna(\"UNKNOWN\")\n",
    "moviesdf.isnull().sum()"
   ]
  },
  {
   "cell_type": "code",
   "execution_count": 5,
   "id": "5bfa609a-0ad7-4cf9-a529-1c04bde02ee0",
   "metadata": {},
   "outputs": [],
   "source": [
    "ratings = pd.read_csv(\"IMDb ratings.csv\")\n",
    "ratingsdf = pd.DataFrame(ratings)"
   ]
  },
  {
   "cell_type": "code",
   "execution_count": 6,
   "id": "46877b75-53f2-4783-a9c6-6676f92b44ce",
   "metadata": {},
   "outputs": [],
   "source": [
    "ratingsdf.drop(columns=['allgenders_0age_avg_vote',\n",
    "                         'allgenders_0age_votes',\n",
    "                         'allgenders_18age_avg_vote',\n",
    "                         'allgenders_18age_votes',\n",
    "                         'allgenders_30age_avg_vote',\n",
    "                         'allgenders_30age_votes',\n",
    "                         'allgenders_45age_avg_vote',\n",
    "                         'allgenders_45age_votes',\n",
    "                         'males_0age_avg_vote',\n",
    "                         'males_0age_votes',\n",
    "                         'males_18age_avg_vote',\n",
    "                         'males_18age_votes',\n",
    "                         'males_30age_avg_vote',\n",
    "                         'males_30age_votes', \n",
    "                         'males_45age_avg_vote', \n",
    "                         'males_45age_votes', \n",
    "                         'females_0age_avg_vote', \n",
    "                         'females_0age_votes', \n",
    "                         'females_18age_avg_vote', \n",
    "                         'females_18age_votes', \n",
    "                         'females_30age_avg_vote', \n",
    "                         'females_30age_votes', \n",
    "                         'females_45age_avg_vote', \n",
    "                         'females_45age_votes', \n",
    "                         'top1000_voters_rating', \n",
    "                         'top1000_voters_votes', \n",
    "                         'us_voters_rating', \n",
    "                         'us_voters_votes', \n",
    "                         'non_us_voters_rating', \n",
    "                         'non_us_voters_votes'], inplace=True, axis=1)"
   ]
  },
  {
   "cell_type": "code",
   "execution_count": 7,
   "id": "3963cc88-a006-4e64-a2b0-3f1009d3b80b",
   "metadata": {},
   "outputs": [
    {
     "data": {
      "text/plain": [
       "imdb_title_id               0\n",
       "weighted_average_vote       0\n",
       "total_votes                 0\n",
       "mean_vote                   0\n",
       "median_vote                 0\n",
       "votes_10                    0\n",
       "votes_9                     0\n",
       "votes_8                     0\n",
       "votes_7                     0\n",
       "votes_6                     0\n",
       "votes_5                     0\n",
       "votes_4                     0\n",
       "votes_3                     0\n",
       "votes_2                     0\n",
       "votes_1                     0\n",
       "males_allages_avg_vote      0\n",
       "males_allages_votes         0\n",
       "females_allages_avg_vote    0\n",
       "females_allages_votes       0\n",
       "dtype: int64"
      ]
     },
     "execution_count": 7,
     "metadata": {},
     "output_type": "execute_result"
    }
   ],
   "source": [
    "ratingsdf = ratingsdf.fillna(0)\n",
    "ratingsdf.isnull().sum()"
   ]
  },
  {
   "cell_type": "code",
   "execution_count": 8,
   "id": "8e5cfbc0-c207-4ed2-a49c-3754b8adbc23",
   "metadata": {},
   "outputs": [],
   "source": [
    "names = pd.read_csv(\"IMDb names.csv\")\n",
    "namesdf = pd.DataFrame(names)"
   ]
  },
  {
   "cell_type": "code",
   "execution_count": 9,
   "id": "55a7f908-825e-4394-b928-488b39745b2f",
   "metadata": {},
   "outputs": [],
   "source": [
    "namesdf.drop(columns=['birth_name', 'height', 'bio', 'birth_details', \n",
    "                       'place_of_birth', 'date_of_birth', 'place_of_birth', \n",
    "                       'death_details', 'date_of_death', 'place_of_death', \n",
    "                       'reason_of_death', 'spouses_string', 'spouses', \n",
    "                       'divorces', 'spouses_with_children', 'children'], inplace=True, axis=1)"
   ]
  },
  {
   "cell_type": "code",
   "execution_count": 10,
   "id": "b8deaa8f-b4d0-49a0-ab69-6df95a2e5f8f",
   "metadata": {},
   "outputs": [
    {
     "data": {
      "text/plain": [
       "imdb_name_id    0\n",
       "name            0\n",
       "dtype: int64"
      ]
     },
     "execution_count": 10,
     "metadata": {},
     "output_type": "execute_result"
    }
   ],
   "source": [
    "namesdf.isnull().sum()"
   ]
  },
  {
   "cell_type": "code",
   "execution_count": 11,
   "id": "55f1e9f5-95cf-484f-81f9-7807c04834ad",
   "metadata": {},
   "outputs": [],
   "source": [
    "titleP = pd.read_csv(\"IMDb title_principals.csv\")\n",
    "titlePdf = pd.DataFrame(titleP)"
   ]
  },
  {
   "cell_type": "code",
   "execution_count": 12,
   "id": "24d9a63d-9daf-4313-ba6b-1a350e2a1faa",
   "metadata": {},
   "outputs": [],
   "source": [
    "titlePdf.drop(columns=['job', 'characters'], inplace=True, axis=1)\n"
   ]
  },
  {
   "cell_type": "code",
   "execution_count": 13,
   "id": "3eef1dcc-b8fc-4457-8346-612ee532ff53",
   "metadata": {},
   "outputs": [
    {
     "data": {
      "text/plain": [
       "imdb_title_id    0\n",
       "ordering         0\n",
       "imdb_name_id     0\n",
       "category         0\n",
       "dtype: int64"
      ]
     },
     "execution_count": 13,
     "metadata": {},
     "output_type": "execute_result"
    }
   ],
   "source": [
    "titlePdf.isnull().sum()\n"
   ]
  },
  {
   "cell_type": "code",
   "execution_count": null,
   "id": "5b989211-ea27-4b55-913c-278706f3fc6e",
   "metadata": {},
   "outputs": [],
   "source": [
    "# merged moviesdf and ratingsdf on the common attribute imdb_title_id\n",
    "movies_ratings_df = pd.merge( moviesdf, ratingsdf, on='imdb_title_id', how='outer')\n",
    "\n",
    "# merges title_principle dataframe with name dataframe based on the imdb_name_id\n",
    "titles_names_df = pd.merge( titlePdf, namesdf, on='imdb_name_id', how='outer')\n",
    "titles_names_df = titles_names_df.dropna()\n",
    "\n",
    "# merging the two merged dataframes into one complete dataframe based on 'imdb_title_id'\n",
    "complete_df = pd.merge( movies_ratings_df, titles_names_df, on='imdb_title_id', how='outer')\n",
    "complete_df = complete_df.dropna()\n",
    "complete_df.isnull().sum()"
   ]
  },
  {
   "cell_type": "code",
   "execution_count": null,
   "id": "df4731f8-d7f0-47a1-bcc0-68e4b004c77a",
   "metadata": {},
   "outputs": [],
   "source": [
    "# to get the mena of the avg votes\n",
    "directors_mean_df = complete_df.groupby(['director'])[['mean_vote']].mean()\n",
    "\n",
    "# to get the total movies they worked on\n",
    "directors_total_df = complete_df.groupby(['director'])[['title']].count()\n",
    "\n",
    "all_directors_df = pd.concat([directors_mean_df, directors_total_df], axis=1)\n",
    "all_directors_df = all_directors_df.sort_values(['title'], ascending = False)\n",
    "\n",
    "top_ten_directors = all_directors_df.head(10)\n",
    "\n",
    "top_ten_directors = top_ten_directors.sort_values(['mean_vote'], ascending = False)\n",
    "top_ten_directors.plot.barh(figsize=(15,10), y='mean_vote', width=.75, xlabel=\"Directors\", ylabel=\"Rating\", \n",
    "                            title=\"Top 10 Directors and Their Average Ratings\", color=[\"teal\"]);"
   ]
  },
  {
   "cell_type": "code",
   "execution_count": null,
   "id": "2bc468fd-f8ad-4590-aa99-3b2f6c23d756",
   "metadata": {},
   "outputs": [],
   "source": [
    "genredf = complete_df.groupby(['genre'])[['mean_vote']].mean().reset_index();\n",
    "genredf = genredf.sort_values(['mean_vote'], ascending = False);\n",
    "\n",
    "toptengenre = genredf.head(10)\n",
    "\n",
    "toptengenre.plot.barh(figsize=(15,8), x=\"genre\", width=.75, xlabel=\"Genre\", title=\"Top 10 Movie Genres Based on Ratings\", color=\"teal\");\n",
    "plt.xlabel(\"Average Ratings\")\n",
    "plt.xticks(rotation='horizontal');\n",
    "\n",
    "\n",
    "male_female_genre = complete_df.groupby(['genre'])[['males_allages_avg_vote', 'females_allages_avg_vote']].mean().reset_index();\n",
    "male_genre = male_female_genre.sort_values(['males_allages_avg_vote'], ascending = False);\n",
    "female_genre = male_female_genre.sort_values(['females_allages_avg_vote'], ascending = False);\n",
    "\n",
    "\n",
    "male_genre = male_genre.head(10)\n",
    "male_genre.plot.barh(figsize=(15,10), x=\"genre\", width=.75, xlabel=\"Genre\", title=\"Top 10 Movie Genres Based on Male Ratings\", color=[\"teal\", \"plum\"]);\n",
    "plt.xlabel(\"Average Ratings\");\n",
    "\n",
    "\n",
    "female_genre = female_genre.head(10)\n",
    "female_genre.plot.barh(figsize=(15,10), x=\"genre\", width=.75, xlabel=\"Genre\", title=\"Top 10 Movie Genres Based on Female Ratings\", color=[\"teal\", \"plum\"]);\n",
    "plt.xlabel(\"Average Ratings\");"
   ]
  },
  {
   "cell_type": "code",
   "execution_count": null,
   "id": "41f95e03-a186-4fbc-9e7f-81e12600bc90",
   "metadata": {},
   "outputs": [],
   "source": [
    "# EDA, Looking For Relation between Country Origin & Rating\n",
    "\n",
    "# Finding Most Used Countries (top 10)\n",
    "most_freq_countries = list(movies_ratings_df['country'].value_counts()[:10].index)\n",
    "\n",
    "# Shrink Dataframe by Top10 Countries\n",
    "df = movies_ratings_df[movies_ratings_df['country'].isin(most_freq_countries)]\n",
    "\n",
    "# Calculating Avg Rating per Countries\n",
    "s = df.groupby(by=['country'])['mean_vote'].sum() #sum\n",
    "c = df['country'].value_counts()                  #counts\n",
    "\n",
    "s.sort_index(inplace=True)\n",
    "c.sort_index(inplace=True)\n",
    "\n",
    "avg_rating_countries = s/c\n",
    "\n",
    "# Graphing Findings\n",
    "avg_rating_countries.plot.barh(figsize=(15,10), width=.75, title=\"Top 10 Most Frequent Countries with Average Ratings of All Their Films\")\n",
    "plt.xlabel(\"Average Ratings\")\n",
    "plt.show()"
   ]
  },
  {
   "cell_type": "code",
   "execution_count": null,
   "id": "6ab62f04-ed0d-4d63-92ba-074317e27c01",
   "metadata": {},
   "outputs": [],
   "source": [
    "# EDA, Looking For Relation between Country Origin & Rating (Continued)\n",
    "\n",
    "#Plotting Freq Counts\n",
    "s.plot.barh(figsize=(15,10), width=.75, title=\"Top 10 Countries with Frequency Counts of Movies Released\")\n",
    "plt.xlabel(\"Count\")\n",
    "plt.ylabel(\"Country\")"
   ]
  },
  {
   "cell_type": "code",
   "execution_count": null,
   "id": "ae0a49c3-f729-498f-8ab3-ec1d1c59ef8f",
   "metadata": {},
   "outputs": [],
   "source": [
    "# EDA, Looking For Relation between Country Origin & Rating (Continued)\n",
    "\n",
    "fig = plt.figure(figsize=(15,10))\n",
    "ax = fig.add_axes([0,0,1,1])\n",
    "country = []\n",
    "#Plotting Quartile Info\n",
    "for i in most_freq_countries:\n",
    "    df_ = df[df['country'] == i]\n",
    "    country.append(df_['mean_vote'])\n",
    "    \n",
    "ax.set_xticklabels(most_freq_countries)\n",
    "bp = ax.boxplot(country)\n",
    "\n",
    "# plt.show()\n",
    "plt.title(\"Top 10 Most Frequent Countries with Ratings of all their Films\")\n",
    "plt.xlabel(\"Country\")\n",
    "plt.ylabel(\"Rating\")"
   ]
  },
  {
   "cell_type": "code",
   "execution_count": null,
   "id": "4e3eb865-7dea-474c-8cc8-558b337d438e",
   "metadata": {},
   "outputs": [],
   "source": []
  },
  {
   "cell_type": "code",
   "execution_count": null,
   "id": "2e9ed6e2-071b-4e50-a146-dc4e4a1ffbcf",
   "metadata": {},
   "outputs": [],
   "source": []
  },
  {
   "cell_type": "code",
   "execution_count": null,
   "id": "6d3d41bf-9553-4256-b192-d39e833c2492",
   "metadata": {},
   "outputs": [],
   "source": []
  }
 ],
 "metadata": {
  "kernelspec": {
   "display_name": "Python 3",
   "language": "python",
   "name": "python3"
  },
  "language_info": {
   "codemirror_mode": {
    "name": "ipython",
    "version": 3
   },
   "file_extension": ".py",
   "mimetype": "text/x-python",
   "name": "python",
   "nbconvert_exporter": "python",
   "pygments_lexer": "ipython3",
   "version": "3.8.8"
  }
 },
 "nbformat": 4,
 "nbformat_minor": 5
}
